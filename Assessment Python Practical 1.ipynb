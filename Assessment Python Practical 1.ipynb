{
 "cells": [
  {
   "cell_type": "markdown",
   "id": "c69f984c",
   "metadata": {},
   "source": [
    "# Australain Health issue\n",
    "\n",
    "## Blood Glucose Data"
   ]
  },
  {
   "cell_type": "code",
   "execution_count": 32,
   "id": "7f29a015",
   "metadata": {},
   "outputs": [
    {
     "name": "stdout",
     "output_type": "stream",
     "text": [
      "The behaviour of the glucose in the blood in 5 persons without diabetes= 121.76160995393982 71.16983492354389 90.03805211080282 72.66947518559073 106.20200630658363\n"
     ]
    }
   ],
   "source": [
    "import random\n",
    "\n",
    "a, b, c, d, e = [random.uniform (60, 126) for i in range (5)]\n",
    "\n",
    "#assign a to e variables to the random forms\n",
    "#randonly choose 5 values\n",
    "\n",
    "#print (a, b, c, d, e)\n",
    "\n",
    "print('The behaviour of the glucose in the blood in 5 persons without diabetes=',a,b,c,d,e)\n",
    "\n",
    "#rename the 5 outcomes "
   ]
  },
  {
   "cell_type": "markdown",
   "id": "6df7059e",
   "metadata": {},
   "source": [
    "## BMI calculator "
   ]
  },
  {
   "cell_type": "code",
   "execution_count": 51,
   "id": "2b55a335",
   "metadata": {},
   "outputs": [
    {
     "name": "stdout",
     "output_type": "stream",
     "text": [
      "Please enter a weight (kg):90\n",
      "Please enter a height (m):1.2\n",
      "BMI= 62.5\n"
     ]
    }
   ],
   "source": [
    "#height=1.6\n",
    "#weight=50\n",
    "\n",
    "#print (round(weight/pow(height,2),2)) #BMI calculators formula: BMI = m/h^2\n",
    "\n",
    "weight = float(input(\"Please enter a weight (kg):\"))\n",
    "\n",
    "height = float(input(\"Please enter a height (m):\"))\n",
    "\n",
    "print('BMI=', (round(weight/pow(height,2),2)))"
   ]
  },
  {
   "cell_type": "markdown",
   "id": "471b139f",
   "metadata": {},
   "source": [
    "## DNA"
   ]
  },
  {
   "cell_type": "code",
   "execution_count": null,
   "id": "fa9ce913",
   "metadata": {},
   "outputs": [],
   "source": [
    "dna = (input('Please enter a DNA sequence:'))\n",
    "#dna='GAATAACA'\n",
    "a = 0\n",
    "c = 0\n",
    "g = 0\n",
    "t = 0\n",
    "for d in dna:\n",
    "    if d == 'A':\n",
    "        a += 1\n",
    "    elif d == 'C':\n",
    "        c += 1\n",
    "    elif d == 'G':\n",
    "        g += 1\n",
    "    elif d == 'T':\n",
    "        t += 1\n",
    "print('adenine: ' + str(a) + ' guanine: ' + str(g) + ' cytosine: ' + str(c) + ' thymine: ' + str(t))\n",
    "\n",
    "\n"
   ]
  }
 ],
 "metadata": {
  "kernelspec": {
   "display_name": "Python 3 (ipykernel)",
   "language": "python",
   "name": "python3"
  },
  "language_info": {
   "codemirror_mode": {
    "name": "ipython",
    "version": 3
   },
   "file_extension": ".py",
   "mimetype": "text/x-python",
   "name": "python",
   "nbconvert_exporter": "python",
   "pygments_lexer": "ipython3",
   "version": "3.9.7"
  }
 },
 "nbformat": 4,
 "nbformat_minor": 5
}
